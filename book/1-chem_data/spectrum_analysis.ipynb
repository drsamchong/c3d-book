{
 "cells": [
  {
   "cell_type": "markdown",
   "metadata": {},
   "source": [
    "# Chemical data - spectra (or patterns)"
   ]
  },
  {
   "cell_type": "markdown",
   "metadata": {},
   "source": [
    "Experimental characterisation methods like NMR and IR commonly produce datasets in the form of 1-dimensional (or sometimes 2D) spectra. For simple 1D NMR experiments, for example, the spectrum is usually output in the form of intensity vs. chemical shift $\\delta$ in ppm.\n",
    "\n",
    "\n",
    "#### Analysing spectra\n",
    "\n",
    "Determining information about the structure of molecules in the sample usually starts with extracting information about the peaks present in the NMR spectrum. The peak information can then be interpreted to provide specific information about the composition and connectivity of the molecule.\n",
    "\n",
    "In general, fitting peaks with a function that models the shape serves several purposes including: to gain some fundamental understanding of the nature of the data (e.g. does the method and/or specific instrument produce a particular peak shape); if the peaks are modelled well, the information on their centres, amplitudes can be more precise.\n",
    "\n",
    "\n",
    "#### Aim of this notebook exercise\n",
    "\n",
    "\n",
    "To get an overview how 1D spectral data can be analysed to acquire information about the peaks - positions of the centres, widths, intensities, etc. - we will look at a simple NMR spectrum and practise some pandas, matplotlib and scipy skills along the way.\n",
    "\n",
    "*Processing spectra involves modelling data.* This exercise also gives us a chance to look more closely at how a model is being applied to the data and see some of the considerations and issues you should be aware of as you work with even simple data problems.\n",
    "\n",
    ":::{note}\n",
    "To see the complete notebook, click [here](spectrum_analysis_full.ipynb).\n",
    ":::"
   ]
  },
  {
   "cell_type": "code",
   "execution_count": 2,
   "metadata": {},
   "outputs": [],
   "source": [
    "# import statements\n",
    "import numpy as np\n",
    "import pandas as pd\n",
    "import seaborn as sns\n",
    "import matplotlib.pyplot as plt\n",
    "from scipy.signal import find_peaks, peak_widths\n",
    "from scipy.optimize import curve_fit"
   ]
  },
  {
   "cell_type": "markdown",
   "metadata": {},
   "source": [
    "The <sup>13</sup>C NMR spectrum of ethanol is stored as a csv file (`13C_EtOH.csv`) in the data directory in the parent folder `../data`."
   ]
  },
  {
   "cell_type": "markdown",
   "metadata": {},
   "source": [
    "It is a good idea to check the contents of a file before you try to load it using Python.\n",
    "This is particularly the case with data files to get an idea of the structure of the file, whether it has\n",
    "any header lines that you might want to skip over or if the column names are present, for example.\n",
    "\n",
    ":::{tip}\n",
    "You can run shell (terminal) command from a Jupyter notebook. More info here: https://tinyurl.com/2yv37k2x\n",
    ":::"
   ]
  },
  {
   "cell_type": "code",
   "execution_count": null,
   "metadata": {},
   "outputs": [],
   "source": [
    "# It is a good idea to check the contents of a file before you try to load it using Python.\n",
    "# This is particularly the case with data files to get an idea of the structure of the file, whether it has\n",
    "# any header lines that you might want to skip over or if the column names are present, for example.\n",
    "\n",
    "# You can run shell (terminal) command from a Jupyter notebook. More info here: https://tinyurl.com/2yv37k2x\n",
    "\n",
    "# Use the `head` shell command to look at the first few lines of the file \n",
    "\n"
   ]
  },
  {
   "cell_type": "code",
   "execution_count": null,
   "metadata": {},
   "outputs": [],
   "source": [
    "# Read the NMR spectrum from the csv into a pandas dataframe called nmr_spec\n",
    "\n",
    "# nmr_spec = ...\n",
    "\n",
    "nmr_spec"
   ]
  },
  {
   "cell_type": "code",
   "execution_count": null,
   "metadata": {},
   "outputs": [],
   "source": [
    "# Uncomment line below and run cell to complete code to load the csv file\n",
    "# %load ../code_snips/load_nmr_csv.txt\n",
    "\n"
   ]
  },
  {
   "cell_type": "code",
   "execution_count": null,
   "metadata": {},
   "outputs": [],
   "source": [
    "# Plot the spectrum\n",
    "fig, ax = plt.subplots()\n",
    "ax.plot(nmr_spec[\"ppm\"], nmr_spec[\"intensity\"])\n",
    "\n",
    "plt.xlabel(\"Chemical shift $\\\\delta$ / ppm\")\n",
    "plt.ylabel(\"Intensity\")\n",
    "\n",
    "plt.xlim((70, 0))\n",
    "plt.title(r\"$\\mathregular{^{13}C}$ NMR spectrum of ethanol\")\n",
    "plt.show()"
   ]
  },
  {
   "cell_type": "markdown",
   "metadata": {},
   "source": [
    "The code above uses matplotlib's `pyplot.plot` to graph the spectrum. This might be how you have mostly seen plotting in matplotlib so far.\n",
    "\n",
    "Pandas also provides a [`plot` method](https://pandas.pydata.org/docs/reference/api/pandas.DataFrame.plot.html) on its DataFrame and Series objects that offers a convenient way to [visualise data](https://pandas.pydata.org/docs/user_guide/visualization.html) using matplotlib (it uses matplotlib by default but can be changed to others, e.g. plotly).\n",
    "\n",
    "For example, it will pick up axis labels from the DataFrame columns, but you can also modify if preferred."
   ]
  },
  {
   "cell_type": "code",
   "execution_count": null,
   "metadata": {},
   "outputs": [],
   "source": [
    "# Try it yourself:\n",
    "# Plot an equivalent graph of the NMR spectrum using DataFrame.plot()\n",
    "\n",
    "# Your code here...\n",
    "\n",
    "\n",
    "\n",
    "# Uncomment the line below and run the cell to see some code that works\n",
    "# %load ../code_snips/df_plot.txt"
   ]
  },
  {
   "cell_type": "markdown",
   "metadata": {},
   "source": [
    "Decomposing the spectrum into a set of peaks can sometimes be incorporated into the processing that is done by the experimental acquisition software. There are also various Python packages dedicated to different types of spectroscopic data which can facilitate integration into automated data processing pipelines.\n",
    "\n",
    "To get a picture of what is going in this process, we can use some of the general methods available in scipy's signal processing and optimisation subpackages to analyse the peaks in our simple NMR spectrum.\n",
    "\n",
    "</br>"
   ]
  },
  {
   "cell_type": "markdown",
   "metadata": {},
   "source": [
    "### Peak processing in scipy\n",
    "\n",
    "In CHEM501, you used some of the functions available in [SciPy](https://docs.scipy.org/doc/scipy/index.html)'s [`optimize`](https://docs.scipy.org/doc/scipy/tutorial/optimize.html#optimization-scipy-optimize) subpackage that can be used to fit population distributions by modelling the population distribution function (PDF) as a curve that follows a Gaussian (or Lorentzian) function.\n",
    "\n",
    "We can use the same process to fit peaks in experimentally measured datasets like NMR spectra.\n",
    "\n",
    "The peaks in NMR spectra are usually described as Lorentzian functions, but sometimes Gaussian or pseudo-Voigt (a mixture of Gaussian and Lorentzian) shapes are used. For our <sup>13</sup>C NMR spectrum, we can define the Lorentzian and Gaussian functions:\n",
    "\n",
    "[**Lorentzian**](https://mathworld.wolfram.com/LorentzianFunction.html)\n",
    "\n",
    "$$y = \\frac{A}{\\pi} \\frac{W/2}{(x-x_0)^2+(W/2)^2}$$\n",
    "\n",
    "where *A* is the amplitude of the peak, *W* is the full width at half maximum (FWHM) and *x*<sub>0</sub> is value of *x* at the peak centre.\n",
    "\n",
    "</br>\n",
    "\n",
    "[**Gaussian**](https://mathworld.wolfram.com/GaussianFunction.html)\n",
    "\n",
    "$$y = A \\cdot \\frac{1}{\\sigma\\sqrt{2\\pi}}\\;\\exp(-\\frac{(x-x_0)^2}{2\\sigma^2})$$\n",
    "<!---$$y = f(x) = A \\cdot \\frac{1}{\\sigma\\sqrt{2\\pi}}\\;e^{-\\frac{(x-x_0)^2}{2\\sigma^2}}$$--->\n",
    "\n",
    "Here, *x*<sub>0</sub> rather than $\\mu$ is used to represent the centre of the peak (for the normal PDF, $\\mu$ was the mean of the  distribution) and $\\sigma$ and the FWHM, *W*, of the peak are related by:\n",
    "$$W = \\sigma\\sqrt{8\\:\\ln2}$$ \n",
    "\n"
   ]
  },
  {
   "cell_type": "code",
   "execution_count": 10,
   "metadata": {},
   "outputs": [],
   "source": [
    "# These functions will calculate a peak using a Gaussian or Lorentzian function as defined above.\n",
    "\n",
    "def gaussian(x_array, ampl, centre, width):\n",
    "    \"\"\"Generate a signal with a Gaussian shape.\"\"\"\n",
    "    sigma = width/np.sqrt(8*np.log(2))\n",
    "    return ampl*(1/(sigma*np.sqrt(2*np.pi)))*np.exp(-(x_array-centre)**2/(2*sigma**2))\n",
    "\n",
    "def lorentzian(x_array, ampl, centre, width):\n",
    "    \"\"\"Generate a signal with a Lorentzian shape.\"\"\"\n",
    "    h_width = width/2\n",
    "    return ampl/np.pi * h_width/((x_array-centre)**2 + h_width**2)"
   ]
  },
  {
   "cell_type": "markdown",
   "metadata": {},
   "source": [
    "Before using the functions to try fitting the NMR peaks, we can look at an example of what the two peak shapes look like by simulating a peak generated by the two functions and plotting them:"
   ]
  },
  {
   "cell_type": "code",
   "execution_count": null,
   "metadata": {},
   "outputs": [],
   "source": [
    "# Write some code here to generate a peak of each type centred at 1, with a width of 0.1 and amplitude of 10.\n",
    "# Tip: the numpy linspace method makes it straightforward to generate an equally-spaced array of numbers for the\n",
    "# x-axis data.\n",
    "\n",
    "# Your code here...\n",
    "\n",
    "\n",
    "# Once you have the two peaks, plot them on the same set of axes to compare them.\n",
    "\n",
    "# Your code here...\n",
    "\n",
    "# Uncomment the line below and run the cell to see some code that works\n",
    "# %load ../code_snips/gen_peaks.txt\n"
   ]
  },
  {
   "cell_type": "markdown",
   "metadata": {},
   "source": [
    "We now know that the functions can model the shape of Lorentzian and Gaussian peaks. So we should be able to use them to try to fit the peaks in the NMR spectrum. The fitting process optimises the model's parameters to obtain a calculated spectrum that is as close as possible to the experimentally observed data.\n",
    "\n",
    "Both the Lorentzian and Gaussian models have three parameters that can be varied to modify the peak shape: the amplitude, position of the peak's centre and the peak's width. Depending on the type of measurement, all three can provide information about the analyte.\n",
    "\n",
    "We will use [`scipy.optimize.curve_fit`](https://docs.scipy.org/doc/scipy/reference/generated/scipy.optimize.curve_fit.html) to fit the peaks in the spectrum. It uses [non-linear least squares](https://docs.scipy.org/doc/scipy/reference/generated/scipy.optimize.least_squares.html#scipy.optimize.least_squares) to fit a function - in this case the Lorentzian we defined - to a set of data.  \n",
    "\n",
    "Here is a basic intro to [Least Squares Optimisation](least_squares_opt).\n",
    "\n",
    "</br>"
   ]
  },
  {
   "cell_type": "markdown",
   "metadata": {},
   "source": [
    "#### Peak finding - getting initial model parameters\n",
    "\n",
    "You might remember that the optimisation needs a set of initial guesses to fit the curve. For one or two peaks, that is easily done by hand, but we can use scipy's signal processing [`scipy.signal.find_peaks`](https://docs.scipy.org/doc/scipy/reference/generated/scipy.signal.find_peaks.html) to do this in Python.\n",
    "\n",
    "The `find_peaks` function locates local maxima in the 1D array it is passed by comparing data points with neighbouring values.\n",
    "\n",
    "Try running the function on the intensity data of the NMR spectrum."
   ]
  },
  {
   "cell_type": "code",
   "execution_count": null,
   "metadata": {},
   "outputs": [],
   "source": [
    "# Pass the NMR intensities to the find_peaks function and check the results (take a look at the `find_peaks` docs to see what it returns). \n",
    "# Note the shape of the array storing the indices of the peaks in the intensity array.\n",
    "\n",
    "peak_idx, peak_info = find_peaks(nmr_spec[\"intensity\"])\n",
    "peak_idx"
   ]
  },
  {
   "cell_type": "markdown",
   "metadata": {},
   "source": [
    "`array([   1,    3,    5, ..., 6989, 6994, 6998], shape=(2320,))`\n",
    "\n",
    "Running the peak finding on the intensities without providing any extra constraints results in `find_peaks` locating over 2000 peaks in the spectrum, rather than the two we see when we plot the spectrum. The additional \"peaks\" are weak intensity local maxima. The vast majority (all but two) are points that are higher intensity than their surroundings, but not significantly higher than the backgground noise.\n",
    "\n",
    "`find_peaks` can also take other arguments that filter the peaks it finds based on the properties of the peaks. The information it returns will also depend on the arguments passed.\n",
    "Check the [docs](https://docs.scipy.org/doc/scipy/reference/generated/scipy.signal.find_peaks.html) and modify the call to `find_peaks` to filter the peaks and get the information required as initial guesses for the Lorentzian peaks."
   ]
  },
  {
   "cell_type": "code",
   "execution_count": null,
   "metadata": {},
   "outputs": [],
   "source": [
    "# Modify the call to `find_peaks` below to filter the peaks to just the two real resonances.\n",
    "# Your call should include parameters so that the function returns enough peak information to get initial values for \n",
    "# peak amplitude, centre and width.\n",
    "\n",
    "peak_idx, peak_info = find_peaks(nmr_spec[\"intensity\"])\n",
    "\n",
    "# uncomment the line below and run the cell to load the complete code\n",
    "# %load ../code_snips/find_peaks_filter.txt\n",
    "\n",
    "# Your code here...\n",
    "\n",
    "\n",
    "print(peak_idx)\n",
    "peak_info"
   ]
  },
  {
   "cell_type": "markdown",
   "metadata": {},
   "source": [
    "`find_peaks` is not aware of the data along the x-axis, i.e. the chemical shift, there is still some work to pull out the peak centres and the width of the peaks in ppm - at the moment, the widths are given in terms of the number of data points.\n"
   ]
  },
  {
   "cell_type": "code",
   "execution_count": null,
   "metadata": {},
   "outputs": [],
   "source": [
    "# Use the indices of the peaks to work out the peak centres in ppm and add them to the peak_info dictionary with the key \"centres\".\n",
    "\n",
    "# Your code here...\n",
    "\n",
    "\n",
    "# uncomment the line below and run the cell to load some code to do this\n",
    "# %load ../code_snips/peak_centres_ppm.txt\n"
   ]
  },
  {
   "cell_type": "code",
   "execution_count": null,
   "metadata": {},
   "outputs": [],
   "source": [
    "# The widths are currently expressed in terms of number of data points, i.e. \" 'widths': array([2.7734915 , 3.57548198]) \" \n",
    "# means the FWHM of the first peak is the distance between 2.77 points, which assumes they are evenly spaced.\n",
    "# Work out the widths in ppm. Update the widths in the peak_info dictionary to these values.\n",
    "# Hint: You can calculate the distance between adjacent rows in a pandas Series using the diff() method.\n",
    "\n",
    "\n",
    "# Your code here...\n",
    "\n",
    "\n",
    "# uncomment the line below and run the cell to load some code to do this\n",
    "# %load ../code_snips/widths_ppm.txt\n"
   ]
  },
  {
   "cell_type": "code",
   "execution_count": null,
   "metadata": {},
   "outputs": [],
   "source": [
    "# Check the peak information\n",
    "peak_info"
   ]
  },
  {
   "cell_type": "code",
   "execution_count": 14,
   "metadata": {},
   "outputs": [],
   "source": [
    "# Tidy up the peak information\n",
    "\n",
    "peak_info = {key: val for key, val in peak_info.items() if key in [\"peak_heights\", \"widths\", \"centres\"]}"
   ]
  },
  {
   "cell_type": "markdown",
   "metadata": {},
   "source": [
    "OK! Finally, let's try fitting the Lorentzian model to the NMR peaks.\n",
    "\n",
    "</br>"
   ]
  },
  {
   "cell_type": "markdown",
   "metadata": {},
   "source": [
    "### Peak fitting - optimising the model to get precise peak information\n",
    "\n",
    "Now you are ready to run the least squares optimisation to fit the curves to the peaks in the spectrum.\n",
    "\n",
    "For this simple spectrum, the peaks are well separated so can be fitted separately and the baseline is very low and flat. Check the [`curve_fit` docs](https://docs.scipy.org/doc/scipy/reference/generated/scipy.optimize.curve_fit.html) if you need a reminder of how to call the function, passing in the information from the peak_info dictionary as the initial values for the parameters.\n",
    "\n",
    "One thing to note: The amplitude of the fitted curve will be the integrated intensity - the area under the peak. You can estimate the initial area as that of a rectangle of *height = peak height* and *width = peak width*."
   ]
  },
  {
   "cell_type": "code",
   "execution_count": null,
   "metadata": {},
   "outputs": [],
   "source": [
    "# Run `curve_fit` for each of the peaks in the NMR spectrum and store the output in the lists popt_list and pcov_list\n",
    "\n",
    "popt_list = []\n",
    "pcov_list = []\n",
    "\n",
    "# Your code here...\n",
    "\n",
    "\n",
    "\n",
    "\n",
    "# uncomment the line below and run the cell to load some code to do this\n",
    "# %load ../code_snips/run_curve_fits.txt\n",
    "\n",
    "\n",
    "display(popt_list, pcov_list)\n"
   ]
  },
  {
   "cell_type": "markdown",
   "metadata": {},
   "source": [
    "### Assessing the fit\n",
    "\n",
    "Check the optimised parameters of the fitted Lorentzian peaks stored in `popt_list`. These will be `[amplitude, centre, width]` for each peak. \n",
    "\n",
    "Take another look at the spectrum. Do these values look reasonable? It might be difficult to tell with the areas, but\n",
    "remember the rectangular approximation.\n",
    "\n",
    "The covariance matrix for the fitted functions are in `pcov_list`. The diagonal elements are the variances of the parameters and these can be used to estimate the errors (uncertainties) on the parameters (see [docs](https://docs.scipy.org/doc/scipy/reference/generated/scipy.optimize.curve_fit.html) for info).\n",
    "\n",
    "</br>"
   ]
  },
  {
   "cell_type": "code",
   "execution_count": null,
   "metadata": {},
   "outputs": [],
   "source": [
    "# Calculate the 1-standard deviation errors for each of the parameters of the peaks. \n",
    "# Report the parameter values and the associated errors.\n",
    "\n",
    "\n",
    "def report_peak_fit(popt, perr):\n",
    "    \"\"\"Print peak function parameters and 1-sigma errors\"\"\"\n",
    "    report = (f\"Amplitude: {popt[0]:.3f} +/- {perr[0]:.3f}\\n\" \n",
    "              f\"Centre: {popt[1]:.4f} +/- {perr[1]:.4f}\\n\"\n",
    "              f\"Width: {popt[2]:.4f} +/- {perr[2]:.4f}\\n\")\n",
    "\n",
    "    print(report)\n",
    "\n",
    "# Write a comment to explain what this code is doing.\n",
    "errors = [np.sqrt(np.diag(pcov)) for pcov in pcov_list]\n",
    "\n",
    "for i, pk in enumerate(popt_list):\n",
    "    print(f\"Peak {i+1}\")\n",
    "    report_peak_fit(pk, errors[i])\n"
   ]
  },
  {
   "cell_type": "markdown",
   "metadata": {},
   "source": [
    "We can also overlay a spectrum calculated from the optimised peak parameters to see if the fitted peaks look reasonable by eye."
   ]
  },
  {
   "cell_type": "code",
   "execution_count": 1,
   "metadata": {},
   "outputs": [],
   "source": [
    "# This function simulates a spectrum using the specified peak shape function and a set of parameters passed as a dictionary.\n",
    "from simulate import simulate_spectrum"
   ]
  },
  {
   "cell_type": "code",
   "execution_count": 18,
   "metadata": {},
   "outputs": [],
   "source": [
    "def collate_fitted_peak_parameters(popt):\n",
    "    \"\"\" Make a dictionary of peak parameters \"\"\"\n",
    "\n",
    "    parameters = [\"ampl\", \"centre\", \"width\"]\n",
    "    return dict(zip(parameters, popt))\n",
    "\n",
    "fitted_peaks = [collate_fitted_peak_parameters(popt) for popt in popt_list] # assemble a list of dictionaries for peak parameters\n",
    "\n",
    "lor_spec_x, lor_spec_y = simulate_spectrum(lorentzian, nmr_spec[\"ppm\"], fitted_peaks)"
   ]
  },
  {
   "cell_type": "code",
   "execution_count": null,
   "metadata": {},
   "outputs": [],
   "source": [
    "# y_sigma = nmr_spec[\"intensity\"].std()\n",
    "# y_errors = [y_sigma for y in nmr_spec[\"intensity\"]]\n",
    "\n",
    "nmr_spec.plot(x=\"ppm\", \n",
    "              y=\"intensity\",\n",
    "              xlabel=\"Chemical shift $\\\\delta$ / ppm\",\n",
    "              ylabel=\"Intensity\",\n",
    "              kind=\"scatter\",\n",
    "              marker=\".\",\n",
    "              label=\"Measured\")\n",
    "\n",
    "plt.plot(lor_spec_x, lor_spec_y, color=\"red\", label=\"Calculated\")\n",
    "\n",
    "plt.legend()\n",
    "plt.xlim((70, 0))\n",
    "plt.title(r\"$\\mathregular{^{13}C}$ NMR spectrum of ethanol\")\n",
    "plt.show()"
   ]
  },
  {
   "cell_type": "markdown",
   "metadata": {},
   "source": [
    "Does this look like a good fit? Try changing the x-limits to check the fit of the peaks more closely.\n",
    "\n",
    "</br>"
   ]
  },
  {
   "cell_type": "markdown",
   "metadata": {},
   "source": [
    "#### Performance metrics\n",
    "\n",
    "We can also use a variety of metrics to assess how well the modelled spectrum fits the experimental data. \n",
    "\n",
    "$R$<sup>2</sup> (coefficient of determination) is a statistical measure of how well the model explains the variability of the dependent variable (here, the intensity). Its form is quite intuitive and it is defined as follows:\n",
    "\n",
    "$$R^2 = 1 - \\frac{SSR}{SST}$$\n",
    "\n",
    "where:  \n",
    "- **SSR (Sum of Squared Residuals)**: also called the residual sum of squares (**RSS**), is the quantity minimised by least square. It measures the total squared differences between the observed values and the predicted values from the model.  \n",
    "\n",
    "  $$SSR = \\sum (y_i - \\hat{y}_i)^2$$\n",
    "\n",
    "- **SST (Total Sum of Squares)**: measures the total variability in the observed data (without any model), based on the mean $\\bar{y}$:\n",
    "\n",
    "  $$SST = \\sum (y_i - \\bar{y})^2$$\n",
    "\n",
    "- If the model fits perfectly, $ SSR = 0 $ and $ R^2 = 1 $, meaning all variability in the data is explained by the model.  \n",
    "- If the model is no better than simply using the mean $ \\bar{y} $, then $ SSR = SST $ and $ R^2 = 0 $.  \n",
    "- If the model is worse than using the mean (e.g., a bad fit), $ R^2 $ can be negative.\n",
    "\n",
    "In least squares fitting, reducing SSR improves the model fit and increases $ R^2 $, so a good fit has a high $ R^2 $ close to 1.\n",
    "\n",
    "We could calculate $R$<sup>2</sup> manually (code in cell below), but scikit-learn's [`metrics` package](https://scikit-learn.org/stable/api/sklearn.metrics.html) makes it straightforward to calculate many measures of model performance.\n",
    "\n",
    "\n",
    "</br>\n"
   ]
  },
  {
   "cell_type": "code",
   "execution_count": 16,
   "metadata": {},
   "outputs": [],
   "source": [
    "# To calculate r^2:\n",
    "\n",
    "# residuals = lor_spec_y - nmr_spec[\"intensity\"]\n",
    "# squared_residuals = residuals ** 2\n",
    "# SSR = squared_residuals.sum()\n",
    "# SST = ((nmr_spec[\"intensity\"] - nmr_spec[\"intensity\"].mean())**2).sum()\n",
    "# r2 = 1-(SSR/SST)\n",
    "# print(r2)\n"
   ]
  },
  {
   "cell_type": "code",
   "execution_count": null,
   "metadata": {},
   "outputs": [],
   "source": [
    "# Import the relevant function from sklearn.metrics to calculate r^2, the coefficient of determination\n",
    "\n",
    "\n",
    "# uncomment the line below and run the cell to load some code to do this\n",
    "# %load ../code_snips/r2_sklearn.txt\n"
   ]
  },
  {
   "cell_type": "markdown",
   "metadata": {},
   "source": [
    "### **Key Points Summary:**\n",
    "\n",
    "- **Real-World Data Modeling**: In many areas of chemistry (e.g., NMR, IR spectroscopy), fitting models to experimental data is crucial for extracting meaningful information, such as peak positions and intensities.\n",
    "\n",
    "- **Peak Fitting**: Fitting peaks with a model function helps extract more precise information about the data (e.g., determining peak centers, amplitudes, and widths) compared to raw data points.\n",
    "\n",
    "- **Use of Least Squares**: Least squares optimisation plays a central role in fitting models to experimental data. It helps minimise the difference between the model predictions and the observed data, providing the best-fit parameters for the model.\n",
    "\n",
    "- **Practical Considerations**: When fitting models, especially in noisy or complex data, it is important to consider the quality of the fit and how well the model reflects the underlying data. This exercise highlights common issues in fitting, such as choosing an appropriate model and evaluating the fit.\n",
    "\n",
    "- **Iterative Process**: Fitting is often an iterative process. You may need to try different initial guesses for the model parameters, refine the model, and evaluate how well the fit matches the data.\n",
    "\n"
   ]
  },
  {
   "cell_type": "markdown",
   "metadata": {},
   "source": [
    "### Things to try and/or consider:\n",
    "\n",
    "- Write some code to add a line that shows the residuals as a difference plot below the final graph of the experimental and calculated data.\n",
    "\n",
    "- Repeat the fit using the Gaussian function. Is this a better or worse model for the NMR peak shapes?\n",
    "\n",
    "- What happens if the initial guesses for the peak function's parameters are not close to the actual values? Try fitting the peaks with one of the centres far from the real location. What happens?\n",
    "  \n",
    "- We treated the spectrum using a very generic peak fitting process. Specialised NMR analysis libraries have methods to deal with more complex data much more efficiently (but many will still be using least squares underneath). Can you think of what additional complexities <sup>1</sup>H NMR might pose, for example? What issues might arise if peaks are much closer together?\n",
    "  \n",
    "- The 7000 points of the NMR data have effectively been reduced to six numbers. This poses some questions about how data is stored, reported and used for further analysis. What factors might be important when making those decisions? Are there any disadvantages of only having the peak information available? Would the choice be different (how, why) in different scenarios?\n",
    "\n",
    "- You can see how it might be possible to automate this process for NMR spectra and other types of measured datasets. What steps would be needed now to interpret the information to translate it to knowledge about the molecule? How straightforward is this to automate?\n"
   ]
  },
  {
   "cell_type": "markdown",
   "metadata": {},
   "source": []
  }
 ],
 "metadata": {
  "kernelspec": {
   "display_name": "chem502",
   "language": "python",
   "name": "python3"
  },
  "language_info": {
   "codemirror_mode": {
    "name": "ipython",
    "version": 3
   },
   "file_extension": ".py",
   "mimetype": "text/x-python",
   "name": "python",
   "nbconvert_exporter": "python",
   "pygments_lexer": "ipython3",
   "version": "3.13.1"
  }
 },
 "nbformat": 4,
 "nbformat_minor": 2
}
