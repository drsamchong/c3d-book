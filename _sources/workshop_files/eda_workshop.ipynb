{
 "cells": [
  {
   "cell_type": "markdown",
   "metadata": {},
   "source": [
    "# Workshop - Exploratory Data Analysis\n",
    "\n",
    "In this workshop, we will work with a dataset of thermochemical data for some molecules to explore what features or descriptors are influential in their melting and/or boiling points. "
   ]
  },
  {
   "cell_type": "markdown",
   "metadata": {},
   "source": [
    "## Useful resources\n",
    "\n",
    "We will be using some of the python libraries you have already seen and Seaborn, which you might not have yet. Here are some quick start guides and/or tutorials that might come in useful.\n",
    "\n",
    "- Pandas\n",
    "  - [10 minutes to pandas](https://pandas.pydata.org/docs/user_guide/10min.html)\n",
    "- Matplotlib\n",
    "  - [Quick start guide](https://matplotlib.org/stable/users/explain/quick_start.html)\n",
    "- RDKit\n",
    "  - [Getting started with the RDKit in Python](https://www.rdkit.org/docs/GettingStartedInPython.html)\n",
    "  - [RDKit tutorial from 2021](https://github.com/greglandrum/AIDD_RDKit_Tutorial_2021/blob/b4c4661ff7980721823654f54cd0c28031c5884c/RDKit_Intro.ipynb) - this covers a lot of ground. We won't be talking about reactions (towards end of notebook)\n",
    "  - There are also lots of videos on YouTube and of course ChatGPT (though I am not sure how well it does with RDKit, probably because the documentation is patchy).\n",
    "\n",
    "\n",
    "You might also find some useful bits and pieces in the [Molecular fingerprints notebook](https://drsamchong.github.io/c3d-book/1-chem_data/fingerprints.html) in the module book.\n",
    "\n",
    "\n"
   ]
  },
  {
   "cell_type": "markdown",
   "metadata": {},
   "source": [
    "::: {note}\n",
    "You can find a notebook with code for the data cleaning, visualisation of the initial data and calculation of molecular descriptors [here](eda_workshop_complete).\n",
    ":::"
   ]
  },
  {
   "cell_type": "markdown",
   "metadata": {},
   "source": [
    "Let's start by importing some libraries:\n",
    "\n",
    "- time (needed to include a sleep)\n",
    "- requests\n",
    "- pandas \n",
    "- numpy\n",
    "- matplotlib\n",
    "- seaborn"
   ]
  },
  {
   "cell_type": "code",
   "execution_count": 2,
   "metadata": {},
   "outputs": [],
   "source": [
    "# TODO: Write your import statements here.\n",
    "\n",
    "\n",
    "# rdkit has a complicated structure, so we will start with these and maybe add some later\n",
    "\n",
    "from rdkit import Chem\n",
    "from rdkit.Chem import (\n",
    "                        AllChem,\n",
    "                        rdCoordGen,\n",
    "                        Draw,\n",
    "                        rdFingerprintGenerator,\n",
    "                        PandasTools,\n",
    "                        Descriptors\n",
    "                        )\n",
    "\n",
    "from rdkit.Chem.Draw import IPythonConsole\n",
    "from rdkit import DataStructs\n",
    "\n",
    "from IPython.display import SVG\n",
    "from ipywidgets import interact,fixed,IntSlider"
   ]
  },
  {
   "cell_type": "markdown",
   "metadata": {},
   "source": [
    "### Loading the data\n",
    "\n",
    "The data is stored in a flat csv file in the `data` directory called `alcohol_acid_phys_data.csv`.\n",
    "\n",
    "0. Check the data in the file (try the 'head' command)\n",
    "1. Read the data into a pandas dataframe\n",
    "2. Display the dataframe"
   ]
  },
  {
   "cell_type": "code",
   "execution_count": null,
   "metadata": {},
   "outputs": [],
   "source": [
    "# TODO:\n",
    "\n",
    "# 0. Check the data in the file (try the 'head' command)\n",
    "# 1. Read the data into a pandas dataframe\n",
    "# 2. Display the dataframe\n",
    "\n"
   ]
  },
  {
   "cell_type": "markdown",
   "metadata": {},
   "source": [
    "### Cleaning the data\n",
    "\n",
    "We need to do at least a little cleaning of the data. We can check the data for the number of rows and the data types in each column using [`DataFrame.info()`](https://pandas.pydata.org/docs/reference/api/pandas.DataFrame.info.html) method."
   ]
  },
  {
   "cell_type": "markdown",
   "metadata": {},
   "source": [
    "There are lots of pKa values missing. We are not going to use the pKa values, so we can drop those columns.\n",
    "\n",
    "Some rows are missing densities. And more importantly, some are missing melting and/or boiling points, which is the property we are interested in.\n",
    "\n",
    "It might be possible to look these up somewhere, like the [NIST Chemistry WebBook](https://webbook.nist.gov/chemistry/) which unfortunately does seem not have a convenient API (there are unofficial ones if you search on the web). For now we can also drop these rows.\n"
   ]
  },
  {
   "cell_type": "code",
   "execution_count": null,
   "metadata": {},
   "outputs": [],
   "source": [
    "# TODO:\n",
    "# 1. Drop the two pKa columns\n",
    "# 2. Drop the rows with NaN values in density, melting point and boiling point columns.\n",
    "# 3. Check the info again to see if the changes have been made.\n",
    "\n"
   ]
  },
  {
   "cell_type": "markdown",
   "metadata": {},
   "source": [
    "Still a few issues:\n",
    "\n",
    "- The `Class` and `IUPAC name` columns have some odd characters which appear to encode whitespace, e.g. Alkanedioic\\r\\nacid.\n",
    "- The .info() shows that the melting and boiling points have object, i.e. string data types, which suggests there are non-numerical values. If you look at the columns, some numbers have \"d\" or \"s\" sometimes with a number, probably to denote \"decomposed\" or \"sublimed\" maybe.\n",
    "\n",
    "Pandas has `str.contains` and `str.replace` methods for its `Series` structure. Try using these to check and remove the encoded characters in those columns.\n",
    "\n",
    "Can you think of a way to deal with the non- or partly numeric phase change values?\n",
    "\n",
    ":::{hint}\n",
    "Could [this](https://pandas.pydata.org/docs/reference/api/pandas.to_numeric.html) help?\n",
    ":::\n"
   ]
  },
  {
   "cell_type": "code",
   "execution_count": null,
   "metadata": {},
   "outputs": [],
   "source": [
    "# TODO:\n",
    "\n",
    "# 1. Ensure only numeric values are present in the melting point, boiling point columns\n",
    "# 2. Remove the encoded whitespace characters from the 'Class' and 'IUPAC name' columns\n",
    "# 3. Convert the melting point, boiling point columns to numeric values."
   ]
  },
  {
   "cell_type": "markdown",
   "metadata": {},
   "source": [
    "Some of the compounds do not have common names. We could either drop the column or fill the missing values with something like \"unknown\" or \"none\"."
   ]
  },
  {
   "cell_type": "code",
   "execution_count": null,
   "metadata": {},
   "outputs": [],
   "source": [
    "# TODO:\n",
    "\n",
    "# Clean column with missing compounds' common names\n"
   ]
  },
  {
   "cell_type": "markdown",
   "metadata": {},
   "source": [
    "If you converted the mp and bp columns to numeric types using `pd.to_numeric` with `errors=\"coerce\"` then you will probably now have some additional null values in those columns, so those rows can be dropped."
   ]
  },
  {
   "cell_type": "code",
   "execution_count": null,
   "metadata": {},
   "outputs": [],
   "source": [
    "# TODO: Drop any remaining rows with NaN values in mp/bp columns\n"
   ]
  },
  {
   "cell_type": "markdown",
   "metadata": {},
   "source": [
    "Finally, we have a clean dataset with no missing values and the correct dtypes.\n",
    "\n",
    "We can look at the summary statistics for the numerical columns we currently have, but there's not much there yet."
   ]
  },
  {
   "cell_type": "markdown",
   "metadata": {},
   "source": [
    "There is one more thing we can do to tidy this data.\n",
    "\n",
    "You may not be so familiar with the pandas `category` dtype. It is used when a variable takes a limited number of values.\n",
    "\n",
    "Check the number of unique values for the columns. Which one could be treated as categorical data?"
   ]
  },
  {
   "cell_type": "code",
   "execution_count": null,
   "metadata": {},
   "outputs": [],
   "source": [
    "# TODO: Check for categorical columns and change the data type to 'category' if necessary\n",
    "\n"
   ]
  },
  {
   "cell_type": "markdown",
   "metadata": {},
   "source": [
    "### Visualising the data\n",
    "\n",
    "Have a look at this brilliant [seaborn tutorial](https://weisscharlesj.github.io/SciCompforChemists/notebooks/chapter_10/chap_10_notebook.html) developed as by Charles J. Weiss at Augustana University in South Dakota.\n",
    "\n",
    "Some of the data used has a similar structure to this dataset.\n",
    "\n",
    "There are no hard and fast rules about which types of plots to use to visualise your data, but the data types of the columns will mean some are more suitable to look at the data and relationships for certain variables.\n",
    "\n",
    "Try plotting the data to visualise some of the following:\n",
    "\n",
    "- The distribution of different classes of compound in the data set\n",
    "- Identify if there are any outliers for the thermochemical data or density\n",
    "- The distribution of boiling points, melting point and/or density with the class of the compound\n",
    "- Identify any correlations between the numerical features and the melting and/or boiling point.\n",
    "  - Is there any difference for different classes of compound?\n",
    "\n",
    "\n",
    "Are there any other interesting patterns or trends in the data that you have observed?\n",
    "\n"
   ]
  },
  {
   "cell_type": "markdown",
   "metadata": {},
   "source": [
    "### Adding some descriptors\n",
    "\n",
    "We have a list of compounds and a small number of observed values and descriptors. We can add a few more by calculating them using RDKit, but we only have IUPAC names, so we need to obtain a more rigorous representation to use with RDKit.\n",
    "\n",
    "The [Chemical Identifier Resolver](https://cactus.nci.nih.gov/chemical/structure) (CIR) service is run by the CADD Group at the NCI/NIH as part of their [Cactus server](https://cactus.nci.nih.gov). It is used in the [Molecular fingerprints notebook](https://drsamchong.github.io/c3d-book/1-chem_data/fingerprints.html)."
   ]
  },
  {
   "cell_type": "code",
   "execution_count": null,
   "metadata": {},
   "outputs": [],
   "source": [
    "# Here is a function so the process of getting the SMILES can be repeated for multiple compounds.\n",
    "# It includes a sleep time (`time.sleep`) to avoid overloading the server.\n",
    "\n",
    "def get_smiles_from_name(name):\n",
    "    \"\"\"Gets SMILES string from the Cactus API given a chemical name.\"\"\"\n",
    "    \n",
    "    ROOT_URL = \"https://cactus.nci.nih.gov/chemical/structure/\"\n",
    "    identifier = name\n",
    "    representation = \"smiles\"\n",
    "\n",
    "    query_url = f\"{ROOT_URL}{identifier}/{representation}\"\n",
    "\n",
    "    response = requests.get(query_url)\n",
    "    time.sleep(0.05)\n",
    "    if response:\n",
    "        return response.text\n",
    "    else:\n",
    "        print(f\"Failed to get SMILES for {name}\")\n",
    "        return \"not found\"\n",
    "        # raise Exception(f\"Cactus request failed for {name}: {response.status_code}\")\n"
   ]
  },
  {
   "cell_type": "code",
   "execution_count": null,
   "metadata": {},
   "outputs": [],
   "source": [
    "# TODO: Get a list of SMILES strings for the compounds in the dataframe and add this to the \n",
    "# dataframe as a new column.\n",
    "\n"
   ]
  },
  {
   "cell_type": "markdown",
   "metadata": {},
   "source": [
    "Let's generate some descriptors for these molecules using RDKit.\n",
    "\n",
    "There is a [tutorial](https://greglandrum.github.io/rdkit-blog/posts/2022-12-23-descriptor-tutorial.html) on calculating descriptors, and they are listed in the [Getting Started guide](https://www.rdkit.org/docs/GettingStartedInPython.html#list-of-available-descriptors).\n",
    "\n",
    "RDKit needs a `RDKit.molecule` to calculate the descriptors. You can create a separate list of molecules based on the SMILES strings in the dataframe, or you can use RDKit's [PandasTools module](https://www.rdkit.org/docs/source/rdkit.Chem.PandasTools.html) to work with them in a DataFrame.\n",
    "\n",
    "Have a look at the [molecular fingerprints notebook](https://drsamchong.github.io/c3d-book/1-chem_data/fingerprints.html) for some code to get started getting the RDKit molecules.\n",
    "\n",
    "- Choose around 5 additional descriptors to calculate for each compound.\n",
    "- It is up to you how you handle the calculations and getting the new data combined with the existing dataframe. \n",
    "\n",
    "Here is one option:\n",
    "\n",
    "- You could use the getMolDescriptors function in the [descriptors tutorial](https://greglandrum.github.io/rdkit-blog/posts/2022-12-23-descriptor-tutorial.html) as starting point to calculate the new descriptors and add them to dictionary that can be read into a dataframe.\n",
    "- You can then use [`pd.concat`](https://pandas.pydata.org/docs/reference/api/pandas.concat.html) to combine the dataframe with your thermochemical data with the new descriptors."
   ]
  },
  {
   "cell_type": "code",
   "execution_count": null,
   "metadata": {},
   "outputs": [],
   "source": [
    "# Add RDKit molecule objects to the dataframe\n"
   ]
  },
  {
   "cell_type": "code",
   "execution_count": 65,
   "metadata": {},
   "outputs": [
    {
     "name": "stdout",
     "output_type": "stream",
     "text": [
      "0 MaxAbsEStateIndex\n",
      "1 MaxEStateIndex\n",
      "2 MinAbsEStateIndex\n",
      "3 MinEStateIndex\n",
      "4 qed\n",
      "5 SPS\n",
      "6 MolWt\n",
      "7 HeavyAtomMolWt\n",
      "8 ExactMolWt\n",
      "9 NumValenceElectrons\n",
      "10 NumRadicalElectrons\n",
      "11 MaxPartialCharge\n",
      "12 MinPartialCharge\n",
      "13 MaxAbsPartialCharge\n",
      "14 MinAbsPartialCharge\n",
      "15 FpDensityMorgan1\n",
      "16 FpDensityMorgan2\n",
      "17 FpDensityMorgan3\n",
      "18 BCUT2D_MWHI\n",
      "19 BCUT2D_MWLOW\n",
      "20 BCUT2D_CHGHI\n",
      "21 BCUT2D_CHGLO\n",
      "22 BCUT2D_LOGPHI\n",
      "23 BCUT2D_LOGPLOW\n",
      "24 BCUT2D_MRHI\n",
      "25 BCUT2D_MRLOW\n",
      "26 AvgIpc\n",
      "27 BalabanJ\n",
      "28 BertzCT\n",
      "29 Chi0\n",
      "30 Chi0n\n",
      "31 Chi0v\n",
      "32 Chi1\n",
      "33 Chi1n\n",
      "34 Chi1v\n",
      "35 Chi2n\n",
      "36 Chi2v\n",
      "37 Chi3n\n",
      "38 Chi3v\n",
      "39 Chi4n\n",
      "40 Chi4v\n",
      "41 HallKierAlpha\n",
      "42 Ipc\n",
      "43 Kappa1\n",
      "44 Kappa2\n",
      "45 Kappa3\n",
      "46 LabuteASA\n",
      "47 PEOE_VSA1\n",
      "48 PEOE_VSA10\n",
      "49 PEOE_VSA11\n",
      "50 PEOE_VSA12\n",
      "51 PEOE_VSA13\n",
      "52 PEOE_VSA14\n",
      "53 PEOE_VSA2\n",
      "54 PEOE_VSA3\n",
      "55 PEOE_VSA4\n",
      "56 PEOE_VSA5\n",
      "57 PEOE_VSA6\n",
      "58 PEOE_VSA7\n",
      "59 PEOE_VSA8\n",
      "60 PEOE_VSA9\n",
      "61 SMR_VSA1\n",
      "62 SMR_VSA10\n",
      "63 SMR_VSA2\n",
      "64 SMR_VSA3\n",
      "65 SMR_VSA4\n",
      "66 SMR_VSA5\n",
      "67 SMR_VSA6\n",
      "68 SMR_VSA7\n",
      "69 SMR_VSA8\n",
      "70 SMR_VSA9\n",
      "71 SlogP_VSA1\n",
      "72 SlogP_VSA10\n",
      "73 SlogP_VSA11\n",
      "74 SlogP_VSA12\n",
      "75 SlogP_VSA2\n",
      "76 SlogP_VSA3\n",
      "77 SlogP_VSA4\n",
      "78 SlogP_VSA5\n",
      "79 SlogP_VSA6\n",
      "80 SlogP_VSA7\n",
      "81 SlogP_VSA8\n",
      "82 SlogP_VSA9\n",
      "83 TPSA\n",
      "84 EState_VSA1\n",
      "85 EState_VSA10\n",
      "86 EState_VSA11\n",
      "87 EState_VSA2\n",
      "88 EState_VSA3\n",
      "89 EState_VSA4\n",
      "90 EState_VSA5\n",
      "91 EState_VSA6\n",
      "92 EState_VSA7\n",
      "93 EState_VSA8\n",
      "94 EState_VSA9\n",
      "95 VSA_EState1\n",
      "96 VSA_EState10\n",
      "97 VSA_EState2\n",
      "98 VSA_EState3\n",
      "99 VSA_EState4\n",
      "100 VSA_EState5\n",
      "101 VSA_EState6\n",
      "102 VSA_EState7\n",
      "103 VSA_EState8\n",
      "104 VSA_EState9\n",
      "105 FractionCSP3\n",
      "106 HeavyAtomCount\n",
      "107 NHOHCount\n",
      "108 NOCount\n",
      "109 NumAliphaticCarbocycles\n",
      "110 NumAliphaticHeterocycles\n",
      "111 NumAliphaticRings\n",
      "112 NumAmideBonds\n",
      "113 NumAromaticCarbocycles\n",
      "114 NumAromaticHeterocycles\n",
      "115 NumAromaticRings\n",
      "116 NumAtomStereoCenters\n",
      "117 NumBridgeheadAtoms\n",
      "118 NumHAcceptors\n",
      "119 NumHDonors\n",
      "120 NumHeteroatoms\n",
      "121 NumHeterocycles\n",
      "122 NumRotatableBonds\n",
      "123 NumSaturatedCarbocycles\n",
      "124 NumSaturatedHeterocycles\n",
      "125 NumSaturatedRings\n",
      "126 NumSpiroAtoms\n",
      "127 NumUnspecifiedAtomStereoCenters\n",
      "128 Phi\n",
      "129 RingCount\n",
      "130 MolLogP\n",
      "131 MolMR\n",
      "132 fr_Al_COO\n",
      "133 fr_Al_OH\n",
      "134 fr_Al_OH_noTert\n",
      "135 fr_ArN\n",
      "136 fr_Ar_COO\n",
      "137 fr_Ar_N\n",
      "138 fr_Ar_NH\n",
      "139 fr_Ar_OH\n",
      "140 fr_COO\n",
      "141 fr_COO2\n",
      "142 fr_C_O\n",
      "143 fr_C_O_noCOO\n",
      "144 fr_C_S\n",
      "145 fr_HOCCN\n",
      "146 fr_Imine\n",
      "147 fr_NH0\n",
      "148 fr_NH1\n",
      "149 fr_NH2\n",
      "150 fr_N_O\n",
      "151 fr_Ndealkylation1\n",
      "152 fr_Ndealkylation2\n",
      "153 fr_Nhpyrrole\n",
      "154 fr_SH\n",
      "155 fr_aldehyde\n",
      "156 fr_alkyl_carbamate\n",
      "157 fr_alkyl_halide\n",
      "158 fr_allylic_oxid\n",
      "159 fr_amide\n",
      "160 fr_amidine\n",
      "161 fr_aniline\n",
      "162 fr_aryl_methyl\n",
      "163 fr_azide\n",
      "164 fr_azo\n",
      "165 fr_barbitur\n",
      "166 fr_benzene\n",
      "167 fr_benzodiazepine\n",
      "168 fr_bicyclic\n",
      "169 fr_diazo\n",
      "170 fr_dihydropyridine\n",
      "171 fr_epoxide\n",
      "172 fr_ester\n",
      "173 fr_ether\n",
      "174 fr_furan\n",
      "175 fr_guanido\n",
      "176 fr_halogen\n",
      "177 fr_hdrzine\n",
      "178 fr_hdrzone\n",
      "179 fr_imidazole\n",
      "180 fr_imide\n",
      "181 fr_isocyan\n",
      "182 fr_isothiocyan\n",
      "183 fr_ketone\n",
      "184 fr_ketone_Topliss\n",
      "185 fr_lactam\n",
      "186 fr_lactone\n",
      "187 fr_methoxy\n",
      "188 fr_morpholine\n",
      "189 fr_nitrile\n",
      "190 fr_nitro\n",
      "191 fr_nitro_arom\n",
      "192 fr_nitro_arom_nonortho\n",
      "193 fr_nitroso\n",
      "194 fr_oxazole\n",
      "195 fr_oxime\n",
      "196 fr_para_hydroxylation\n",
      "197 fr_phenol\n",
      "198 fr_phenol_noOrthoHbond\n",
      "199 fr_phos_acid\n",
      "200 fr_phos_ester\n",
      "201 fr_piperdine\n",
      "202 fr_piperzine\n",
      "203 fr_priamide\n",
      "204 fr_prisulfonamd\n",
      "205 fr_pyridine\n",
      "206 fr_quatN\n",
      "207 fr_sulfide\n",
      "208 fr_sulfonamd\n",
      "209 fr_sulfone\n",
      "210 fr_term_acetylene\n",
      "211 fr_tetrazole\n",
      "212 fr_thiazole\n",
      "213 fr_thiocyan\n",
      "214 fr_thiophene\n",
      "215 fr_unbrch_alkane\n",
      "216 fr_urea\n"
     ]
    }
   ],
   "source": [
    "for idx, desc in enumerate(Descriptors.descList):\n",
    "    print(f\"{idx} {desc[0]}\")"
   ]
  },
  {
   "cell_type": "code",
   "execution_count": null,
   "metadata": {},
   "outputs": [
    {
     "name": "stdout",
     "output_type": "stream",
     "text": [
      "[('MaxAbsEStateIndex', <function MaxAbsEStateIndex at 0x315720720>), ('MaxEStateIndex', <function MaxEStateIndex at 0x3157205e0>), ('MinAbsEStateIndex', <function MinAbsEStateIndex at 0x3157207c0>), ('MinEStateIndex', <function MinEStateIndex at 0x315720680>), ('qed', <function qed at 0x315723920>)]\n"
     ]
    }
   ],
   "source": [
    "# From https://greglandrum.github.io/rdkit-blog/posts/2022-12-23-descriptor-tutorial.html\n",
    "\n",
    "def getMolDescriptors(mol, descriptor_list=None, missingVal=None):\n",
    "    ''' calculate the full list of descriptors for a molecule\n",
    "    \n",
    "        missingVal is used if the descriptor cannot be calculated\n",
    "    '''\n",
    "    res = {}\n",
    "    if descriptor_list is None:\n",
    "        for nm,fn in Descriptors._descList:\n",
    "            # some of the descriptor fucntions can throw errors if they fail, catch those here:\n",
    "            try:\n",
    "                val = fn(mol)\n",
    "            except:\n",
    "                # print the error message:\n",
    "                import traceback\n",
    "                traceback.print_exc()\n",
    "                # and set the descriptor value to whatever missingVal is\n",
    "                val = missingVal\n",
    "            res[nm] = val\n",
    "    # TODO: Add else clause to handle a list numbers corresponding to the descriptor indices\n",
    "    else:\n",
    "        pass\n",
    "    return res"
   ]
  },
  {
   "cell_type": "code",
   "execution_count": null,
   "metadata": {},
   "outputs": [],
   "source": [
    "# TODO: Add the descriptors to the dataframe as new columns\n",
    "\n"
   ]
  },
  {
   "cell_type": "markdown",
   "metadata": {},
   "source": [
    "### Back to visualisation\n",
    "\n",
    "Using your new seaborn skills, visualise the distributions and identify any correlations in your new data.\n",
    "\n",
    "You will probably find plots like pairplots or heatmaps of more use now that you have a few more variables.\n"
   ]
  },
  {
   "cell_type": "markdown",
   "metadata": {},
   "source": []
  },
  {
   "cell_type": "markdown",
   "metadata": {},
   "source": [
    "### Summary\n",
    "\n",
    "- You have used the pandas library to clean and prepare a dataset, and to get descriptive statistics for the data.\n",
    "\n",
    "- You have visualised distributions and relationships in the data to look for anomalies and patterns.\n",
    "\n",
    "- You have used an API to obtain molecular identifiers/representations for a set of compounds.\n",
    "\n",
    "- You have generated molecular descriptors for a set of compounds using RDKit.\n",
    "\n"
   ]
  },
  {
   "cell_type": "markdown",
   "metadata": {},
   "source": []
  }
 ],
 "metadata": {
  "kernelspec": {
   "display_name": "chem502",
   "language": "python",
   "name": "python3"
  },
  "language_info": {
   "codemirror_mode": {
    "name": "ipython",
    "version": 3
   },
   "file_extension": ".py",
   "mimetype": "text/x-python",
   "name": "python",
   "nbconvert_exporter": "python",
   "pygments_lexer": "ipython3",
   "version": "3.13.1"
  }
 },
 "nbformat": 4,
 "nbformat_minor": 2
}
