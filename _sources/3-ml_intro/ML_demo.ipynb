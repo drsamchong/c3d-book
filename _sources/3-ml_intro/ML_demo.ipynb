{
 "cells": [
  {
   "cell_type": "code",
   "execution_count": null,
   "metadata": {
    "tags": [
     "hide-input"
    ]
   },
   "outputs": [],
   "source": [
    "import numpy as np\n",
    "import pandas as pd\n",
    "import matplotlib.pyplot as plt\n",
    "import seaborn as sns\n",
    "from sklearn.preprocessing import StandardScaler, MinMaxScaler\n",
    "from sklearn.model_selection import train_test_split\n",
    "from sklearn.linear_model import LinearRegression\n",
    "\n",
    "from rdkit import Chem\n",
    "from rdkit.Chem import (\n",
    "                        PandasTools,\n",
    "                        Descriptors\n",
    "                        )\n",
    "\n",
    "from rdkit.Chem.Draw import IPythonConsole"
   ]
  },
  {
   "cell_type": "markdown",
   "metadata": {},
   "source": [
    "# Notebook - ML for thermochemical data prediction"
   ]
  },
  {
   "cell_type": "markdown",
   "metadata": {},
   "source": [
    "We can use the data you worked with for the EDA workshop to demonstrate how fit a simple ML model to predict the boiling point of organic compounds from a small set of descriptors.\n",
    "\n",
    "This is an example of\n",
    "\n",
    "**Supervised learning** as applied to a **regression** task.\n",
    "\n",
    "</br>\n",
    "\n",
    "Supervised learning\n",
    ": The model learns from data for which a label (known value or category) is associated with each input (set of feature values)\n",
    "\n",
    "Regression task\n",
    ": Model predicts a continuous numerical value based on the input features\n"
   ]
  },
  {
   "cell_type": "code",
   "execution_count": null,
   "metadata": {},
   "outputs": [],
   "source": [
    "bp_df = pd.read_csv(\"data/alcohol_acid_phys_data_cleaned.csv\")\n",
    "bp_df"
   ]
  },
  {
   "cell_type": "markdown",
   "metadata": {},
   "source": [
    "The data is read in from a csv file of the data cleaned in the [EDA workshop](../workshop_files/eda_workshop), so should be prepared, but we can quickly check."
   ]
  },
  {
   "cell_type": "code",
   "execution_count": null,
   "metadata": {},
   "outputs": [],
   "source": [
    "# Check for missing values\n",
    "bp_df.isna().sum()"
   ]
  },
  {
   "cell_type": "code",
   "execution_count": null,
   "metadata": {},
   "outputs": [],
   "source": [
    "# Check data types\n",
    "bp_df.info()"
   ]
  },
  {
   "cell_type": "markdown",
   "metadata": {},
   "source": [
    "The numerical types are as expected. The category type for the `class` column has not been automatically recognised, understandably. For now we will not be working with that column, so will leave as is.\n",
    "\n",
    "We will start by dropping any rows without a SMILES string and also the melting point column as we are going to try to predict the boiling point."
   ]
  },
  {
   "cell_type": "code",
   "execution_count": null,
   "metadata": {},
   "outputs": [],
   "source": [
    "# Drop rows with missing SMILES string\n",
    "bp_df = bp_df[bp_df[\"SMILES\"] != \"not found\"].reset_index(drop=True)\n",
    "\n",
    "bp_df = bp_df.drop(columns=[\"mp / dC\"])\n",
    "bp_df"
   ]
  },
  {
   "cell_type": "code",
   "execution_count": null,
   "metadata": {},
   "outputs": [],
   "source": [
    "# Add RDKit molecules to the dataframe\n",
    "PandasTools.AddMoleculeColumnToFrame(bp_df, smilesCol=\"SMILES\")\n",
    "bp_df"
   ]
  },
  {
   "cell_type": "code",
   "execution_count": null,
   "metadata": {
    "tags": [
     "hide-input"
    ]
   },
   "outputs": [],
   "source": [
    "# Adapted from https://greglandrum.github.io/rdkit-blog/posts/2022-12-23-descriptor-tutorial.html\n",
    "\n",
    "def getMolDescriptors(mol, descriptor_list=None, missingVal=None):\n",
    "    ''' calculate the full list of descriptors for a molecule\n",
    "    \n",
    "        missingVal is used if the descriptor cannot be calculated\n",
    "    '''\n",
    "    res = {}\n",
    "    if not(descriptor_list):\n",
    "        descriptors = Descriptors._descList\n",
    "    # TODO: Add else clause to handle a list numbers corresponding to the descriptor indices\n",
    "    else:\n",
    "        descriptors = [Descriptors._descList[idx] for idx in descriptor_list]\n",
    "\n",
    "    for nm,fn in descriptors:\n",
    "        # some of the descriptor fucntions can throw errors if they fail, catch those here:\n",
    "        try:\n",
    "            val = fn(mol)\n",
    "        except:\n",
    "            # print the error message:\n",
    "            import traceback\n",
    "            traceback.print_exc()\n",
    "            # and set the descriptor value to whatever missingVal is\n",
    "            val = missingVal\n",
    "        res[nm] = val\n",
    "    return res"
   ]
  },
  {
   "cell_type": "code",
   "execution_count": null,
   "metadata": {},
   "outputs": [],
   "source": [
    "# These are the descriptors selected to calculate for the molecules.\n",
    "# 118 NumHAcceptors\n",
    "# 119 NumHDonors\n",
    "# 27 BalabanJ - a topological descriptor expressing molecular connectivity and branching\n",
    "# 28 BertzCT - a topological complexity index\n",
    "# 83 TPSA - total polar surface area\n",
    "\n",
    "descriptor_list = [118, 119, 27, 28, 83]\n",
    "\n",
    "\n",
    "calc_descriptors = [getMolDescriptors(mol, descriptor_list=descriptor_list) for mol in bp_df[\"ROMol\"]]\n",
    "\n",
    "# Create a dataframe from the calculated descriptors\n",
    "descriptor_df = pd.DataFrame(calc_descriptors)\n",
    "\n",
    "# Add the descriptors to the dataframe as new columns\n",
    "bp_df = pd.concat([bp_df, descriptor_df], axis=1)\n",
    "bp_df"
   ]
  },
  {
   "cell_type": "code",
   "execution_count": null,
   "metadata": {},
   "outputs": [],
   "source": [
    "# To remind us of the relationship between the variables, we can plot a pairplot and heatmap\n",
    "# Pairplot\n",
    "sns.pairplot(bp_df, hue=\"Class\", diag_kind=\"kde\",  palette=\"viridis\")\n",
    "plt.show()"
   ]
  },
  {
   "cell_type": "code",
   "execution_count": null,
   "metadata": {},
   "outputs": [],
   "source": [
    "corr = bp_df.drop(columns=[\"Class\", \"IUPAC name\", \"SMILES\", \"ROMol\"]).corr()\n",
    "\n",
    "sns.heatmap(corr, annot=True)\n",
    "plt.show()"
   ]
  },
  {
   "cell_type": "code",
   "execution_count": null,
   "metadata": {},
   "outputs": [],
   "source": [
    "# corr_abs = bp_df.drop(columns=[\"Class\", \"IUPAC name\", \"SMILES\", \"ROMol\"]).corr().abs()\n",
    "# upper = corr_abs.where(np.triu(np.ones(corr.shape), k=1).astype(bool))\n",
    "# upper"
   ]
  },
  {
   "cell_type": "markdown",
   "metadata": {},
   "source": [
    "This is all looking rather busy - it would be better to look at subsets of the features.\n",
    "\n",
    "What we can see is:\n",
    "\n",
    "- The feature most strongly correlated with the target variable is the molecular weight.\n",
    "- Molecular weight is very strongly correlated with number of carbons and hydrogens\n",
    "- Most of the other features are only moderately or weakly correlated to the target variable.\n",
    "\n"
   ]
  },
  {
   "cell_type": "code",
   "execution_count": null,
   "metadata": {},
   "outputs": [],
   "source": [
    "# A closer look at the correlation between the boiling point and the molecular weight\n",
    "sns.regplot(data=bp_df, x=\"Molweight g/mol\", y=\"bp / dC\",  fit_reg=True,  ci=None)\n",
    "plt.show()"
   ]
  },
  {
   "cell_type": "markdown",
   "metadata": {},
   "source": [
    "For the moment, we will drop the `#C` and `#H` columns. We will see that analysing the initial model can help tell us about the importance of the features. \n",
    "\n",
    "We will also drop the non-numerical features for this task."
   ]
  },
  {
   "cell_type": "code",
   "execution_count": null,
   "metadata": {},
   "outputs": [],
   "source": [
    "cols_drop = [\"#C\", \"#H\", \"IUPAC name\", \"SMILES\", \"ROMol\", \"Class\"]\n",
    "\n",
    "prep_df = bp_df.drop(columns=cols_drop)\n",
    "prep_df"
   ]
  },
  {
   "cell_type": "code",
   "execution_count": null,
   "metadata": {},
   "outputs": [],
   "source": [
    "from sklearn.model_selection import train_test_split\n",
    "from sklearn.preprocessing import MinMaxScaler"
   ]
  },
  {
   "cell_type": "code",
   "execution_count": null,
   "metadata": {},
   "outputs": [],
   "source": [
    "# By convention, the target variable is denoted by y and the features are denoted by X\n",
    "\n",
    "y_full = prep_df[\"bp / dC\"]\n",
    "X_full = prep_df.drop(columns=[\"bp / dC\"])"
   ]
  },
  {
   "cell_type": "code",
   "execution_count": null,
   "metadata": {},
   "outputs": [],
   "source": [
    "# train_test_split shuffles the data by default and splits it into training and testing sets. The \n",
    "# proportion of the data that is used for testing is determined by the test_size parameter. Here, \n",
    "# we are using 80 % of the data for training and 20% for the test set. \n",
    "# The random_state parameter is used to set the seed for the random number generator so that the \n",
    "# results are reproducible.\n",
    "\n",
    "X_train, X_test, y_train, y_test = train_test_split(X_full, y_full, test_size=0.2, random_state=42)"
   ]
  },
  {
   "cell_type": "code",
   "execution_count": null,
   "metadata": {},
   "outputs": [],
   "source": [
    "# Check the size of the training and testing sets\n",
    "X_train.shape, X_test.shape, y_train.shape, y_test.shape"
   ]
  },
  {
   "cell_type": "markdown",
   "metadata": {},
   "source": [
    "[`Scikit-learn`](https://scikit-learn.org/stable/index.html) makes many models available via a consistent interface.\n",
    "\n",
    "We are going to use a linear regression model for this task."
   ]
  },
  {
   "cell_type": "code",
   "execution_count": null,
   "metadata": {},
   "outputs": [],
   "source": [
    "from sklearn import linear_model"
   ]
  },
  {
   "cell_type": "code",
   "execution_count": null,
   "metadata": {},
   "outputs": [],
   "source": [
    "# Create a linear regression model\n",
    "reg = linear_model.LinearRegression()\n",
    "\n",
    "# Fit the model to the training data\n",
    "reg.fit(X_train, y_train)"
   ]
  },
  {
   "cell_type": "code",
   "execution_count": null,
   "metadata": {},
   "outputs": [],
   "source": [
    "# Predict the boiling points of the test set\n",
    "y_pred = reg.predict(X_test)\n"
   ]
  },
  {
   "cell_type": "markdown",
   "metadata": {},
   "source": [
    "We can plot the boiling points that the model predicted for the test set against the known true values to see how good a job the model makes of the predictions"
   ]
  },
  {
   "cell_type": "code",
   "execution_count": null,
   "metadata": {},
   "outputs": [],
   "source": [
    "\n",
    "plt.scatter(y_test, y_pred)\n",
    "plt.plot([y_test.min(), y_test.max()], [y_test.min(), y_test.max()], '-', lw=1, color=\"red\")\n",
    "plt.xlabel(\"True Values [bp / dC]\")\n",
    "plt.ylabel(\"Predictions [bp / dC]\")\n",
    "plt.show()"
   ]
  },
  {
   "cell_type": "code",
   "execution_count": null,
   "metadata": {},
   "outputs": [],
   "source": [
    "# The r^2 value is a measure of how well the model fits the data. It ranges from 0 to 1, \n",
    "# with 1 indicating a perfect fit.\n",
    "r2 = reg.score(X_test, y_test)\n",
    "r2"
   ]
  },
  {
   "cell_type": "markdown",
   "metadata": {},
   "source": [
    "If we look back, we can see that the Pearson correlation coefficient for the relationship between molecular weight and boiling point was 0.84, so the model predicts more accurately than using the molecular weight alone.\n",
    "\n",
    "The model coefficients tell us about the weighting of the features used by the fitted model."
   ]
  },
  {
   "cell_type": "code",
   "execution_count": null,
   "metadata": {},
   "outputs": [],
   "source": [
    "print(X_full.columns)\n",
    "reg.coef_"
   ]
  },
  {
   "cell_type": "markdown",
   "metadata": {},
   "source": [
    "However, because the magnitude of the features' values are on different scales, the coefficients also incorporate the different scales.\n",
    "\n",
    "A scaler can be used to transform the features to a consistent scale. Here's we'll use a [`MinMaxScaler`](https://scikit-learn.org/stable/modules/generated/sklearn.preprocessing.MinMaxScaler.html) to transform the features to have a scale between 0 and 1.\n"
   ]
  },
  {
   "cell_type": "code",
   "execution_count": null,
   "metadata": {},
   "outputs": [],
   "source": [
    "# Split the scaled data into training and testing sets\n",
    "X_train, X_test, y_train, y_test = train_test_split(X_full, y_full, test_size=0.2, random_state=42)\n",
    "\n",
    "scaler = MinMaxScaler()\n",
    "scaler.fit(X_train)\n",
    "scaled_X_train = scaler.transform(X_train)\n",
    "scaled_X_test = scaler.transform(X_test)"
   ]
  },
  {
   "cell_type": "code",
   "execution_count": null,
   "metadata": {},
   "outputs": [],
   "source": [
    "# Create a linear regression model\n",
    "reg = linear_model.LinearRegression()\n",
    "\n",
    "# Fit the model to the training data\n",
    "reg.fit(scaled_X_train, y_train)\n",
    "\n",
    "# Predict the boiling points of the test set\n",
    "y_pred = reg.predict(scaled_X_test)"
   ]
  },
  {
   "cell_type": "code",
   "execution_count": null,
   "metadata": {},
   "outputs": [],
   "source": [
    "plt.scatter(y_test, y_pred)\n",
    "plt.plot([y_test.min(), y_test.max()], [y_test.min(), y_test.max()], '-', lw=1, color=\"red\")\n",
    "plt.xlabel(\"True Values [bp / dC]\")\n",
    "plt.ylabel(\"Predictions [bp / dC]\")\n",
    "plt.show()"
   ]
  },
  {
   "cell_type": "code",
   "execution_count": null,
   "metadata": {},
   "outputs": [],
   "source": [
    "# calculate the R^2 score\n",
    "r2 = reg.score(scaled_X_test, y_test)\n",
    "r2"
   ]
  },
  {
   "cell_type": "markdown",
   "metadata": {},
   "source": [
    "The model's predictions look the same as before, but we can now look at the coefficients."
   ]
  },
  {
   "cell_type": "code",
   "execution_count": null,
   "metadata": {},
   "outputs": [],
   "source": [
    "print(X_full.columns)\n",
    "reg.coef_"
   ]
  },
  {
   "cell_type": "markdown",
   "metadata": {},
   "source": [
    "We can now see that the coefficients which represent the weights of the features in the fitted model indicate that molecular weight - as expected - and density are contributing most strongly to the model"
   ]
  }
 ],
 "metadata": {
  "kernelspec": {
   "display_name": "chem502",
   "language": "python",
   "name": "python3"
  },
  "language_info": {
   "codemirror_mode": {
    "name": "ipython",
    "version": 3
   },
   "file_extension": ".py",
   "mimetype": "text/x-python",
   "name": "python",
   "nbconvert_exporter": "python",
   "pygments_lexer": "ipython3",
   "version": "3.13.1"
  }
 },
 "nbformat": 4,
 "nbformat_minor": 2
}
