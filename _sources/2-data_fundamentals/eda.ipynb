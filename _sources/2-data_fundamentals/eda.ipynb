{
 "cells": [
  {
   "cell_type": "markdown",
   "metadata": {},
   "source": [
    "# Exploratory Data Analysis (EDA)\n",
    "\n",
    "![data process](images/data_process.png)\n",
    "\n",
    "\n",
    "\n",
    "What is EDA?\n",
    "\n",
    ": Process of examining, summarising and visualising data\n",
    "\n",
    "- A first “triaging” step in a workflow to assess a set of data.\n",
    "\n",
    "- Aims to uncover patterns, detect anomalies, and gain insights before applying formal models or statistical tests.\n",
    "\n",
    "\n",
    "\n",
    "- Why is EDA important?\n",
    "    - Understand data structure – Identify key variables, distributions, and relationships.\n",
    "    - Detect errors and biases – Spot missing values, outliers, or inconsistencies.\n",
    "    - Generate hypotheses – Reveal trends that can guide further investigation.\n",
    "    - Choose appropriate models – Decide whether data fits assumptions for statistical methods or machine learning models.\n"
   ]
  },
  {
   "cell_type": "markdown",
   "metadata": {},
   "source": [
    "Understand data structure – Identify key variables, distributions, and relationships.\n",
    "Detect errors and biases – Spot missing values, outliers, or inconsistencies.\n",
    "Generate hypotheses – Reveal trends that can guide further investigation.\n",
    "Choose appropriate models – Decide whether data fits assumptions for statistical methods or machine learning models.\n"
   ]
  },
  {
   "cell_type": "markdown",
   "metadata": {},
   "source": [
    "## Visualisation\n",
    "\n",
    "{attribution=\"John Tukey\"}\n",
    "> The simple graph has brought more information to the data analyst’s mind than any other device.\n",
    "\n"
   ]
  },
  {
   "cell_type": "markdown",
   "metadata": {},
   "source": []
  },
  {
   "cell_type": "code",
   "execution_count": null,
   "metadata": {},
   "outputs": [],
   "source": [
    "import numpy as np"
   ]
  },
  {
   "cell_type": "markdown",
   "metadata": {},
   "source": []
  }
 ],
 "metadata": {
  "kernelspec": {
   "display_name": "chem502",
   "language": "python",
   "name": "python3"
  },
  "language_info": {
   "name": "python",
   "version": "3.13.1"
  }
 },
 "nbformat": 4,
 "nbformat_minor": 2
}
